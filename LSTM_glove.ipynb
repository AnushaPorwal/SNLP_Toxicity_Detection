{
 "cells": [
  {
   "cell_type": "markdown",
   "id": "b9d46128",
   "metadata": {},
   "source": [
    "Creating an LSTM using Train + Dev set\n",
    "\n",
    "Used Glove embeddings for the words\n",
    "\n",
    "Data preprocessing involved removing punctuation, converting to lowercase and removing stop words.\n",
    "\n",
    "Working code - restults submitted on kaggle - output2.csv file"
   ]
  },
  {
   "cell_type": "code",
   "execution_count": 1,
   "id": "adc407e0",
   "metadata": {},
   "outputs": [],
   "source": [
    "import pandas as pd\n",
    "import numpy as np\n",
    "from keras.layers import LSTM, Activation, Dropout, Dense, Input\n",
    "from keras.layers import Embedding\n",
    "from keras.models import Model\n",
    "import string\n",
    "import re\n",
    "from keras.preprocessing.text import Tokenizer\n",
    "from sklearn.preprocessing import LabelBinarizer\n",
    "from keras.preprocessing.sequence import pad_sequences\n",
    "import keras\n",
    "from sklearn.model_selection import train_test_split"
   ]
  },
  {
   "cell_type": "code",
   "execution_count": 2,
   "id": "d0939a1c",
   "metadata": {},
   "outputs": [],
   "source": [
    "from nltk.corpus import stopwords"
   ]
  },
  {
   "cell_type": "code",
   "execution_count": 3,
   "id": "a4c20651",
   "metadata": {},
   "outputs": [],
   "source": [
    "import nltk"
   ]
  },
  {
   "cell_type": "code",
   "execution_count": 5,
   "id": "0e3d2c11",
   "metadata": {},
   "outputs": [],
   "source": [
    "stopwords = set(stopwords.words('english'))"
   ]
  },
  {
   "cell_type": "code",
   "execution_count": 6,
   "id": "25e9ca56",
   "metadata": {},
   "outputs": [],
   "source": [
    "train_data = pd.read_csv('data/train_2024.csv', quoting=3)\n",
    "eval_data = pd.read_csv('data/test_2024.csv', quoting=3)\n",
    "dev_data = pd.read_csv('data/dev_2024.csv', quoting=3)"
   ]
  },
  {
   "cell_type": "code",
   "execution_count": 7,
   "id": "60ec5a33",
   "metadata": {},
   "outputs": [],
   "source": [
    "train_data['text'] = train_data['text'].str.lower()\n",
    "eval_data['text'] = eval_data['text'].str.lower()\n",
    "dev_data['text'] = dev_data['text'].str.lower()"
   ]
  },
  {
   "cell_type": "code",
   "execution_count": 8,
   "id": "d901d644",
   "metadata": {},
   "outputs": [],
   "source": [
    "def remove_stopwords(data):\n",
    "    data['text_wo_stopwords'] = data['text'].apply(lambda x : ' '.join([word for word in x.split() if word not in stopwords]))\n",
    "    return data\n",
    "\n",
    "def remove_tags(test_str):\n",
    "    punc = '''!()-[]{};:'\"\\,<>./?@#$%^&*_~'''\n",
    "    for ele in test_str:\n",
    "        if ele in punc:\n",
    "            test_str = test_str.replace(ele, \"\")\n",
    "    return test_str"
   ]
  },
  {
   "cell_type": "code",
   "execution_count": 9,
   "id": "ecdd9c69",
   "metadata": {},
   "outputs": [],
   "source": [
    "def get_X_Y(data):\n",
    "    '''\n",
    "        Takes in df data\n",
    "        Processes the text in the dataframe\n",
    "        returns the texts as a list, and labels as an array\n",
    "    '''\n",
    "    data = remove_stopwords(data)\n",
    "    data['clean_text']= data['text_wo_stopwords'].apply(lambda cw : remove_tags(cw))\n",
    "    text_list = []\n",
    "    for i in range(len(data)):\n",
    "        text_list.append(data['clean_text'][i])\n",
    "\n",
    "    labels = np.array(data['label'])\n",
    "    return text_list, labels"
   ]
  },
  {
   "cell_type": "code",
   "execution_count": 10,
   "id": "e58f7a37",
   "metadata": {},
   "outputs": [],
   "source": [
    "X_train, Y_train = get_X_Y(train_data)\n",
    "X_eval, Y_eval= get_X_Y(eval_data)\n",
    "X_dev, Y_dev = get_X_Y(dev_data)\n",
    "\n",
    "X_train.extend(X_dev)\n",
    "X = X_train\n",
    "Y = np.concatenate((Y_train, Y_dev))"
   ]
  },
  {
   "cell_type": "code",
   "execution_count": 11,
   "id": "b0e13157",
   "metadata": {},
   "outputs": [],
   "source": [
    "xtrain, xtest, ytrain, ytest = train_test_split(X, Y, test_size=0.2, random_state=42)"
   ]
  },
  {
   "cell_type": "code",
   "execution_count": 12,
   "id": "ed5de297",
   "metadata": {},
   "outputs": [
    {
     "data": {
      "text/plain": [
       "(88000, 22000)"
      ]
     },
     "execution_count": 12,
     "metadata": {},
     "output_type": "execute_result"
    }
   ],
   "source": [
    "len(xtrain), len(xtest)"
   ]
  },
  {
   "cell_type": "code",
   "execution_count": 13,
   "id": "4b382cf9",
   "metadata": {},
   "outputs": [],
   "source": [
    "eval_data_ids = np.array(eval_data['id'])"
   ]
  },
  {
   "cell_type": "code",
   "execution_count": 14,
   "id": "5e60a766",
   "metadata": {},
   "outputs": [],
   "source": [
    "tokenizer = Tokenizer()\n",
    "tokenizer.fit_on_texts(xtrain)\n",
    "\n",
    "words_to_index = tokenizer.word_index"
   ]
  },
  {
   "cell_type": "code",
   "execution_count": 15,
   "id": "f7d76e22",
   "metadata": {},
   "outputs": [],
   "source": [
    "def read_glove_vector(glove_vec):\n",
    "    with open(glove_vec, 'r', encoding='UTF-8') as f:\n",
    "        words = set()\n",
    "        word_to_vec_map = {}\n",
    "        for line in f:\n",
    "            w_line = line.split()\n",
    "            curr_word = w_line[0]\n",
    "            word_to_vec_map[curr_word] = np.array(w_line[1:], dtype=np.float64)\n",
    "\n",
    "    return word_to_vec_map"
   ]
  },
  {
   "cell_type": "code",
   "execution_count": 16,
   "id": "de0c9866",
   "metadata": {},
   "outputs": [],
   "source": [
    "word_to_vec_map = read_glove_vector('data/glove.6B.50d.txt')"
   ]
  },
  {
   "cell_type": "code",
   "execution_count": 17,
   "id": "1033b63f",
   "metadata": {},
   "outputs": [],
   "source": [
    "maxLen = 50\n",
    "vocab_len = len(words_to_index)+1\n",
    "embed_vector_len = word_to_vec_map['moon'].shape[0]\n",
    "\n",
    "emb_matrix = np.zeros((vocab_len, embed_vector_len))\n",
    "\n",
    "for word, index in words_to_index.items():\n",
    "    embedding_vector = word_to_vec_map.get(word)\n",
    "    if embedding_vector is not None:\n",
    "        emb_matrix[index, :] = embedding_vector\n",
    "\n",
    "embedding_layer = Embedding(input_dim=vocab_len, output_dim=embed_vector_len, input_length=maxLen, weights = [emb_matrix], trainable=False)"
   ]
  },
  {
   "cell_type": "code",
   "execution_count": 22,
   "id": "d31fb6b2",
   "metadata": {},
   "outputs": [],
   "source": [
    "def toxicity_model(input_shape):\n",
    "    X_indices = Input(input_shape)\n",
    "    embeddings = embedding_layer(X_indices)\n",
    "    X = LSTM(128, return_sequences=True)(embeddings)\n",
    "    X = Dropout(0.2)(X)\n",
    "    X = LSTM(128, return_sequences=True)(X)\n",
    "    X = Dropout(0.2)(X)\n",
    "    X = LSTM(128)(X)\n",
    "    X = Dense(1, activation='sigmoid')(X)\n",
    "    \n",
    "    model = Model(inputs=X_indices, outputs=X)\n",
    "\n",
    "    return model"
   ]
  },
  {
   "cell_type": "code",
   "execution_count": 23,
   "id": "20f50190",
   "metadata": {},
   "outputs": [],
   "source": [
    "X_train_indices = tokenizer.texts_to_sequences(xtrain)\n",
    "X_train_indices = pad_sequences(X_train_indices, maxlen=maxLen, padding='post')"
   ]
  },
  {
   "cell_type": "code",
   "execution_count": 24,
   "id": "155fee96",
   "metadata": {},
   "outputs": [],
   "source": [
    "model = toxicity_model(maxLen)"
   ]
  },
  {
   "cell_type": "code",
   "execution_count": 25,
   "id": "a5eac5ac",
   "metadata": {},
   "outputs": [
    {
     "name": "stdout",
     "output_type": "stream",
     "text": [
      "Epoch 1/5\n",
      "1375/1375 [==============================] - 640s 453ms/step - loss: 0.3396 - accuracy: 0.8557\n",
      "Epoch 2/5\n",
      "1375/1375 [==============================] - 626s 455ms/step - loss: 0.2658 - accuracy: 0.8947\n",
      "Epoch 3/5\n",
      "1375/1375 [==============================] - 632s 460ms/step - loss: 0.2429 - accuracy: 0.9046\n",
      "Epoch 4/5\n",
      "1375/1375 [==============================] - 399s 290ms/step - loss: 0.2252 - accuracy: 0.9128\n",
      "Epoch 5/5\n",
      "1375/1375 [==============================] - 318s 231ms/step - loss: 0.2122 - accuracy: 0.9190\n"
     ]
    },
    {
     "data": {
      "text/plain": [
       "<keras.src.callbacks.History at 0x1a2564947d0>"
      ]
     },
     "execution_count": 25,
     "metadata": {},
     "output_type": "execute_result"
    }
   ],
   "source": [
    "adam = keras.optimizers.Adam(learning_rate = 0.001)\n",
    "model.compile(optimizer=adam, loss='binary_crossentropy', metrics=['accuracy'])\n",
    "\n",
    "model.fit(X_train_indices, ytrain, batch_size=64, epochs=5)"
   ]
  },
  {
   "cell_type": "code",
   "execution_count": 26,
   "id": "81240d8d",
   "metadata": {},
   "outputs": [],
   "source": [
    "model.save('models/glove_lstm_4.keras')"
   ]
  },
  {
   "cell_type": "code",
   "execution_count": 27,
   "id": "a975aa10",
   "metadata": {},
   "outputs": [],
   "source": [
    "X_test_indices = tokenizer.texts_to_sequences(xtest)\n",
    "X_test_indices = pad_sequences(X_test_indices, maxlen=maxLen, padding='post')"
   ]
  },
  {
   "cell_type": "code",
   "execution_count": 28,
   "id": "54ba68b6",
   "metadata": {},
   "outputs": [
    {
     "name": "stdout",
     "output_type": "stream",
     "text": [
      "688/688 [==============================] - 36s 50ms/step\n"
     ]
    }
   ],
   "source": [
    "test_preds = model.predict(X_test_indices)"
   ]
  },
  {
   "cell_type": "code",
   "execution_count": 30,
   "id": "6c9b5099",
   "metadata": {},
   "outputs": [],
   "source": [
    "test_pred_labels = []\n",
    "for i in range(len(test_preds)):\n",
    "    if test_preds[i] > 0.5:\n",
    "        test_pred_labels.append(1)\n",
    "    else:\n",
    "        test_pred_labels.append(0)\n",
    "        \n",
    "test_pred_labels = np.array(test_pred_labels)"
   ]
  },
  {
   "cell_type": "code",
   "execution_count": 31,
   "id": "ad38910e",
   "metadata": {},
   "outputs": [
    {
     "name": "stdout",
     "output_type": "stream",
     "text": [
      "0.9118181818181819 0.8760858456821665\n"
     ]
    }
   ],
   "source": [
    "from sklearn.metrics import accuracy_score, f1_score\n",
    "\n",
    "acc = accuracy_score(ytest, test_pred_labels)\n",
    "f1 = f1_score(ytest, test_pred_labels)\n",
    "print(acc, f1)"
   ]
  },
  {
   "cell_type": "code",
   "execution_count": 32,
   "id": "08196156",
   "metadata": {},
   "outputs": [],
   "source": [
    "X_eval_indices = tokenizer.texts_to_sequences(X_eval)\n",
    "X_eval_indices = pad_sequences(X_eval_indices, maxlen=maxLen, padding='post')"
   ]
  },
  {
   "cell_type": "code",
   "execution_count": 33,
   "id": "70882c5e",
   "metadata": {},
   "outputs": [
    {
     "name": "stdout",
     "output_type": "stream",
     "text": [
      "376/376 [==============================] - 31s 83ms/step\n"
     ]
    }
   ],
   "source": [
    "eval_preds = model.predict(X_eval_indices)"
   ]
  },
  {
   "cell_type": "code",
   "execution_count": 34,
   "id": "e0bb0b35",
   "metadata": {},
   "outputs": [],
   "source": [
    "eval_pred_labels = []\n",
    "for i in range(len(eval_preds)):\n",
    "    if eval_preds[i] > 0.5:\n",
    "        eval_pred_labels.append(1)\n",
    "    else:\n",
    "        eval_pred_labels.append(0)\n",
    "        \n",
    "eval_pred_labels = np.array(eval_pred_labels)"
   ]
  },
  {
   "cell_type": "code",
   "execution_count": null,
   "id": "9480c775",
   "metadata": {},
   "outputs": [],
   "source": [
    "eval_data_ids = eval_data['id']\n",
    "dev_set_ids = pd.DataFrame({'id': eval_data_ids})\n",
    "\n",
    "preds_df = pd.DataFrame({'label': eval_pred_labels})\n",
    "\n",
    "final_output = pd.concat([dev_set_ids, preds_df], axis=1)\n",
    "final_output.to_csv('output2.csv',index=False)"
   ]
  },
  {
   "cell_type": "code",
   "execution_count": 35,
   "id": "4aa9e951",
   "metadata": {},
   "outputs": [],
   "source": [
    "preds_df = pd.DataFrame({'label': eval_pred_labels})"
   ]
  },
  {
   "cell_type": "code",
   "execution_count": 36,
   "id": "74e80d4f",
   "metadata": {},
   "outputs": [],
   "source": [
    "dev_set_ids = pd.DataFrame({'id': eval_data_ids})"
   ]
  },
  {
   "cell_type": "code",
   "execution_count": 37,
   "id": "6d9262b9",
   "metadata": {},
   "outputs": [
    {
     "data": {
      "text/html": [
       "<div>\n",
       "<style scoped>\n",
       "    .dataframe tbody tr th:only-of-type {\n",
       "        vertical-align: middle;\n",
       "    }\n",
       "\n",
       "    .dataframe tbody tr th {\n",
       "        vertical-align: top;\n",
       "    }\n",
       "\n",
       "    .dataframe thead th {\n",
       "        text-align: right;\n",
       "    }\n",
       "</style>\n",
       "<table border=\"1\" class=\"dataframe\">\n",
       "  <thead>\n",
       "    <tr style=\"text-align: right;\">\n",
       "      <th></th>\n",
       "      <th>id</th>\n",
       "      <th>label</th>\n",
       "    </tr>\n",
       "  </thead>\n",
       "  <tbody>\n",
       "    <tr>\n",
       "      <th>0</th>\n",
       "      <td>0</td>\n",
       "      <td>1</td>\n",
       "    </tr>\n",
       "    <tr>\n",
       "      <th>1</th>\n",
       "      <td>1</td>\n",
       "      <td>0</td>\n",
       "    </tr>\n",
       "    <tr>\n",
       "      <th>2</th>\n",
       "      <td>2</td>\n",
       "      <td>0</td>\n",
       "    </tr>\n",
       "    <tr>\n",
       "      <th>3</th>\n",
       "      <td>3</td>\n",
       "      <td>1</td>\n",
       "    </tr>\n",
       "    <tr>\n",
       "      <th>4</th>\n",
       "      <td>4</td>\n",
       "      <td>1</td>\n",
       "    </tr>\n",
       "    <tr>\n",
       "      <th>...</th>\n",
       "      <td>...</td>\n",
       "      <td>...</td>\n",
       "    </tr>\n",
       "    <tr>\n",
       "      <th>11996</th>\n",
       "      <td>11996</td>\n",
       "      <td>1</td>\n",
       "    </tr>\n",
       "    <tr>\n",
       "      <th>11997</th>\n",
       "      <td>11997</td>\n",
       "      <td>0</td>\n",
       "    </tr>\n",
       "    <tr>\n",
       "      <th>11998</th>\n",
       "      <td>11998</td>\n",
       "      <td>1</td>\n",
       "    </tr>\n",
       "    <tr>\n",
       "      <th>11999</th>\n",
       "      <td>11999</td>\n",
       "      <td>1</td>\n",
       "    </tr>\n",
       "    <tr>\n",
       "      <th>12000</th>\n",
       "      <td>12000</td>\n",
       "      <td>0</td>\n",
       "    </tr>\n",
       "  </tbody>\n",
       "</table>\n",
       "<p>12001 rows × 2 columns</p>\n",
       "</div>"
      ],
      "text/plain": [
       "          id  label\n",
       "0          0      1\n",
       "1          1      0\n",
       "2          2      0\n",
       "3          3      1\n",
       "4          4      1\n",
       "...      ...    ...\n",
       "11996  11996      1\n",
       "11997  11997      0\n",
       "11998  11998      1\n",
       "11999  11999      1\n",
       "12000  12000      0\n",
       "\n",
       "[12001 rows x 2 columns]"
      ]
     },
     "execution_count": 37,
     "metadata": {},
     "output_type": "execute_result"
    }
   ],
   "source": [
    "final_output = pd.concat([dev_set_ids, preds_df], axis=1)\n",
    "final_output"
   ]
  },
  {
   "cell_type": "code",
   "execution_count": 38,
   "id": "1cb04ca5",
   "metadata": {},
   "outputs": [],
   "source": [
    "final_output.to_csv('output2.csv',index=False)"
   ]
  },
  {
   "cell_type": "code",
   "execution_count": 41,
   "id": "522775fa",
   "metadata": {},
   "outputs": [],
   "source": [
    "fei_op = pd.read_csv('submission-stack.csv')"
   ]
  },
  {
   "cell_type": "code",
   "execution_count": 42,
   "id": "3c851aa8",
   "metadata": {},
   "outputs": [
    {
     "data": {
      "text/plain": [
       "True"
      ]
     },
     "execution_count": 42,
     "metadata": {},
     "output_type": "execute_result"
    }
   ],
   "source": [
    "len(final_output) == len(fei_op)"
   ]
  },
  {
   "cell_type": "code",
   "execution_count": 43,
   "id": "1cf5eee8",
   "metadata": {},
   "outputs": [],
   "source": [
    "count_correct = 0\n",
    "for i in range(0, len(fei_op)):\n",
    "    if final_output['label'][i] == fei_op['label'][i]:\n",
    "        count_correct += 1"
   ]
  },
  {
   "cell_type": "code",
   "execution_count": 44,
   "id": "e553056a",
   "metadata": {},
   "outputs": [
    {
     "data": {
      "text/plain": [
       "11139"
      ]
     },
     "execution_count": 44,
     "metadata": {},
     "output_type": "execute_result"
    }
   ],
   "source": [
    "count_correct"
   ]
  },
  {
   "cell_type": "code",
   "execution_count": 45,
   "id": "b35affea",
   "metadata": {},
   "outputs": [
    {
     "data": {
      "text/plain": [
       "12001"
      ]
     },
     "execution_count": 45,
     "metadata": {},
     "output_type": "execute_result"
    }
   ],
   "source": [
    "len(fei_op)"
   ]
  },
  {
   "cell_type": "code",
   "execution_count": 46,
   "id": "05881b66",
   "metadata": {},
   "outputs": [
    {
     "data": {
      "text/plain": [
       "0.9281726522789767"
      ]
     },
     "execution_count": 46,
     "metadata": {},
     "output_type": "execute_result"
    }
   ],
   "source": [
    "count_correct/len(final_output)"
   ]
  },
  {
   "cell_type": "code",
   "execution_count": null,
   "id": "c6a8f539",
   "metadata": {},
   "outputs": [],
   "source": []
  }
 ],
 "metadata": {
  "kernelspec": {
   "display_name": "Python 3 (ipykernel)",
   "language": "python",
   "name": "python3"
  },
  "language_info": {
   "codemirror_mode": {
    "name": "ipython",
    "version": 3
   },
   "file_extension": ".py",
   "mimetype": "text/x-python",
   "name": "python",
   "nbconvert_exporter": "python",
   "pygments_lexer": "ipython3",
   "version": "3.11.4"
  }
 },
 "nbformat": 4,
 "nbformat_minor": 5
}
